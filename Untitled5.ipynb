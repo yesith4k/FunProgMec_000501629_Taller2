{
  "nbformat": 4,
  "nbformat_minor": 0,
  "metadata": {
    "colab": {
      "provenance": [],
      "authorship_tag": "ABX9TyMhgd00PO62Wlg4heQeIyJP",
      "include_colab_link": true
    },
    "kernelspec": {
      "name": "python3",
      "display_name": "Python 3"
    },
    "language_info": {
      "name": "python"
    }
  },
  "cells": [
    {
      "cell_type": "markdown",
      "metadata": {
        "id": "view-in-github",
        "colab_type": "text"
      },
      "source": [
        "<a href=\"https://colab.research.google.com/github/yesith4k/FunProgMec_000501629_Taller2/blob/main/Untitled5.ipynb\" target=\"_parent\"><img src=\"https://colab.research.google.com/assets/colab-badge.svg\" alt=\"Open In Colab\"/></a>"
      ]
    },
    {
      "cell_type": "code",
      "source": [
        "# cree y imprima las siguientes variables \n",
        "t_1 = 0 \n",
        "t_2 = 5\n",
        "x_0 = 3\n",
        "v_0 = 5\n",
        "a = 6 \n",
        "c = 1/2\n",
        "x_1 = v_0 + v_0*t_1 + c*a*t_1**2\n",
        "x_2 = v_0 + v_0*t_2 + c*a*t_2**2 \n",
        "print(x_1)\n",
        "print(x_2)\n"
      ],
      "metadata": {
        "colab": {
          "base_uri": "https://localhost:8080/"
        },
        "id": "d_sF4jG2vels",
        "outputId": "520f354a-99a9-4877-acbc-b8e4bd04831c"
      },
      "execution_count": 5,
      "outputs": [
        {
          "output_type": "stream",
          "name": "stdout",
          "text": [
            "5.0\n",
            "105.0\n"
          ]
        }
      ]
    },
    {
      "cell_type": "code",
      "source": [
        "a > b\n",
        "b <= c\n",
        "a = B y B > c\n",
        "a < c o b < c\n",
        "c != b \n",
        "a + d < c \n",
        "d - c >= - a * b\n",
        "d * c == 5 o c + a > 9 \n",
        "a + b + c > - d * 10\n",
        "4 * b == c * 3\n",
        "print(a)\n",
        "print(b)\n",
        "prin()\n",
        "print()\n",
        "print()\n",
        "print()"
      ],
      "metadata": {
        "colab": {
          "base_uri": "https://localhost:8080/",
          "height": 130
        },
        "id": "Rm2ykQ5x1oJe",
        "outputId": "370a909e-20e5-4d5d-8b20-008fd10bc9db"
      },
      "execution_count": 9,
      "outputs": [
        {
          "output_type": "error",
          "ename": "SyntaxError",
          "evalue": "ignored",
          "traceback": [
            "\u001b[0;36m  File \u001b[0;32m\"<ipython-input-9-b0a78440aa3e>\"\u001b[0;36m, line \u001b[0;32m3\u001b[0m\n\u001b[0;31m    a = B y B > c\u001b[0m\n\u001b[0m          ^\u001b[0m\n\u001b[0;31mSyntaxError\u001b[0m\u001b[0;31m:\u001b[0m invalid syntax\n"
          ]
        }
      ]
    }
  ]
}