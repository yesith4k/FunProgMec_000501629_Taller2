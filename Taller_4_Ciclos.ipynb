{
  "cells": [
    {
      "cell_type": "markdown",
      "id": "66beb5a1",
      "metadata": {
        "id": "66beb5a1"
      },
      "source": [
        "# Fundamentos de Programación para Ingeniería Mecánica\n",
        "## UPB Montería - 202310\n",
        "### Taller 4: Ciclos\n",
        "- Docente: Miguel Ortiz (miguel.ortizp@upb.edu.co)"
      ]
    },
    {
      "cell_type": "markdown",
      "id": "b4381f55",
      "metadata": {
        "id": "b4381f55"
      },
      "source": [
        "Datos del Estudiante:\n",
        "- Nombre:yesith camacho ballesteros \n",
        "- ID:000501629\n",
        "- email:yesithcamacho61@gmail.com"
      ]
    },
    {
      "cell_type": "markdown",
      "id": "433f35a0",
      "metadata": {
        "id": "433f35a0"
      },
      "source": [
        "Resuelva los siguientes ejercicios utilizando estructuras cíclicas y condicionales."
      ]
    },
    {
      "cell_type": "markdown",
      "id": "aead929b",
      "metadata": {
        "id": "aead929b"
      },
      "source": [
        "### Problema 1: Suma de Elementos (30xp)\n",
        "\n",
        "Indique cuál de los dos números ingresados por el usuario tiene una suma de dígitos mayor y la diferencia de estas sumas. Si las sumas de los dígitos son iguales, infórmelo al usuario. \n",
        "\n",
        "**Ejemplo:**\n",
        "\n",
        "```\n",
        "Ingrese el primer número: 23672646\n",
        "Ingrese el segundo número: 12653686\n",
        "La suma de los elementos de la lista 2 es mayor que la suma de los elementos de la lista 1 en 1 unidades.\n",
        "```\n",
        "\n",
        "**Recomendación:** pruebe su algoritmo con listas de prueba:\n",
        "- `lst_1`: lista que representa el primer número. Por ejemplo: dígitos del número de su documento de identidad\n",
        "- `lst_2`: lista que representa el segundo número. Por ejemplo: dígitos del número de su id\n",
        "\n",
        "**Nota:** para leer un número ingresado por el usuario y convertirlo en lista puede utilizar las siguientes instrucciones:\n",
        "\n",
        "```python\n",
        "num = input('Número: ')\n",
        "lst = [int(x) for x in num]\n",
        "```"
      ]
    },
    {
      "cell_type": "code",
      "source": [
        "num1 = input(\"Ingrese el primer número: \")\n",
        "num2 = input(\"Ingrese el segundo número: \")\n",
        "\n",
        "lst1 = [int(i) for i in num1]\n",
        "lst2 = [int(i) for i in num2]\n",
        "\n",
        "sum1 = sum(lst1)\n",
        "sum2 = sum(lst2)\n",
        "\n",
        "if sum1 == sum2:\n",
        "    print(\"Las sumas son iguales.\")\n",
        "else:\n",
        "    diff = abs(sum1 - sum2)\n",
        "    if sum1 > sum2:\n",
        "        print(\"La suma de los elementos del primer número es mayor que la del segundo número en\", diff, \"unidades.\")\n",
        "    else:\n",
        "        print(\"La suma de los elementos del segundo número es mayor que la del primer número en\", diff, \"unidades.\")"
      ],
      "metadata": {
        "colab": {
          "base_uri": "https://localhost:8080/"
        },
        "id": "PaYlfvkpawN4",
        "outputId": "76044967-1bb7-43d8-fe58-3f69a87ef8bd"
      },
      "id": "PaYlfvkpawN4",
      "execution_count": 1,
      "outputs": [
        {
          "output_type": "stream",
          "name": "stdout",
          "text": [
            "Ingrese el primer número: 18053106\n",
            "Ingrese el segundo número: 310503\n",
            "La suma de los elementos del primer número es mayor que la del segundo número en 12 unidades.\n"
          ]
        }
      ]
    },
    {
      "cell_type": "markdown",
      "id": "986a4945",
      "metadata": {
        "id": "986a4945"
      },
      "source": [
        "### Problema 2: Suma Objetivo (50xp)\n",
        "\n",
        "Indique si la suma de los dígitos de un número de verificación alcanza un valor objetivo. Si obtiene el valor objetivo antes de finalizar el recorrido por todos los dígitos del número, indique la iteración en la que se obtuvo este valor. Tenga en cuenta que tanto el valor objetivo como el número de verificación son ingresados por el usuario. En cualquiera de los casos, muestre el resultado obtenido de la suma de los dígitos.\n",
        "\n",
        "**Ejemplo:**\n",
        "```\n",
        "Ingrese número de suma objetivo: 15\n",
        "Ingrese número para validar suma de dígitos: 1234562\n",
        "Suma obtenida en iteración 5 de 7\n",
        "Resultado obtenido: 15\n",
        "Alcanzó el valor objetivo.\n",
        "```\n",
        "\n",
        "**Recomendación:** pruebe su algoritmo con números y listas de prueba:\n",
        "- `n_obj`: valor objetivo\n",
        "- `lst`: lista que representa el número de verificación. Por ejemplo: dígitos del número de su id\n",
        "\n",
        "**Nota:** para leer un número ingresado por el usuario y convertirlo en lista puede utilizar las siguientes instrucciones:\n",
        "\n",
        "```python\n",
        "num = input('Número: ')\n",
        "lst = [int(x) for x in num]\n",
        "```"
      ]
    },
    {
      "cell_type": "code",
      "execution_count": 6,
      "id": "895f4399",
      "metadata": {
        "colab": {
          "base_uri": "https://localhost:8080/"
        },
        "id": "895f4399",
        "outputId": "8b0cfaa4-dc0b-49ad-9fa5-ff2bf6ff350d"
      },
      "outputs": [
        {
          "output_type": "stream",
          "name": "stdout",
          "text": [
            "Ingrese número de suma objetivo: 17\n",
            "Ingrese número para validar suma de dígitos: 123685\n",
            "Suma obtenida en iteración 5 de 6\n",
            "Resultado obtenido: 20\n",
            "Alcanzó el valor objetivo.\n"
          ]
        }
      ],
      "source": [
        "objetivo = int(input(\"Ingrese número de suma objetivo: \"))\n",
        "num = input(\"Ingrese número para validar suma de dígitos: \")\n",
        "lst = [int(i) for i in num]\n",
        "\n",
        "sumatoria = 0\n",
        "\n",
        "for i in range(len(lst)):\n",
        "    sumatoria += lst[i]\n",
        "    if sumatoria >= objetivo:\n",
        "        print(f\"Suma obtenida en iteración {i+1} de {len(lst)}\")\n",
        "        print(f\"Resultado obtenido: {sumatoria}\")\n",
        "        print(\"Alcanzó el valor objetivo.\")\n",
        "        break\n",
        "else:\n",
        "    print(f\"Resultado obtenido: {sumatoria}\")\n",
        "    print(\"No alcanzó el valor objetivo.\")"
      ]
    },
    {
      "cell_type": "markdown",
      "id": "0b532b9b",
      "metadata": {
        "id": "0b532b9b"
      },
      "source": [
        "### Problema 3: Dígito Mayor (40xp)\n",
        "\n",
        "Indique el dígito de mayor valor y su posición en un número ingresado por el usuario. En caso de que el dígito mayor se repita, se debe retornar el índice del primero de ellos que fue encontrado. \n",
        "\n",
        "**Ejemplo:**\n",
        "\n",
        "```\n",
        "Ingrese número: 123753569054\n",
        "El dígito mayor de la lista es 9\n",
        "El número se encontró en la posición 8\n",
        "```\n",
        "\n",
        "**Recomendación:** pruebe su algoritmo con listas de prueba:\n",
        "- `lst`: lista que representa el número a evaluar. Por ejemplo: dígitos del número de su documento de identidad\n",
        "\n",
        "**Nota:** para leer un número ingresado por el usuario y convertirlo en lista puede utilizar las siguientes instrucciones:\n",
        "\n",
        "```python\n",
        "num = input('Número: ')\n",
        "lst = [int(x) for x in num]\n",
        "```"
      ]
    },
    {
      "cell_type": "code",
      "source": [
        "num = input('Ingrese un número: ')\n",
        "lst = [int(x) for x in num]\n",
        "\n",
        "mayor = lst[0]\n",
        "posicion = 0\n",
        "\n",
        "for i in range(1, len(lst)):\n",
        "    if lst[i] > mayor:\n",
        "        mayor = lst[i]\n",
        "        posicion = i\n",
        "\n",
        "print('El dígito mayor de la lista es', mayor)\n",
        "print('El número se encontró en la posición', posicion)"
      ],
      "metadata": {
        "colab": {
          "base_uri": "https://localhost:8080/"
        },
        "id": "CraDuaCec13L",
        "outputId": "6f11dd3a-661f-4641-ed4e-293f68bbb2bb"
      },
      "id": "CraDuaCec13L",
      "execution_count": 7,
      "outputs": [
        {
          "output_type": "stream",
          "name": "stdout",
          "text": [
            "Ingrese un número: 17192831\n",
            "El dígito mayor de la lista es 9\n",
            "El número se encontró en la posición 3\n"
          ]
        }
      ]
    },
    {
      "cell_type": "markdown",
      "id": "03af9108",
      "metadata": {
        "id": "03af9108"
      },
      "source": [
        "### Problema 4: Valores que coinciden (50xp)\n",
        "\n",
        "Indique las posiciones (índices) en los cuales se encuentran los mismos valores de los dígitos en dos números ingresados por el usuario. El algoritmo debe verificar que los números tengan la misma longitud (igual número de dígitos). Si ninguno de los dígitos de los números coincide, también debe informarlo al usuario. \n",
        "\n",
        "**Ejemplo:**\n",
        "\n",
        "```\n",
        "Ingrese el primer número: 124646272\n",
        "Ingrese el segundo número: 354849136\n",
        "Los números tienen 2 dígitos(s) en común en la(s) posición(es): [2, 4]\n",
        "```\n",
        "\n",
        "**Recomendación:** pruebe su algoritmo con listas de prueba:\n",
        "- `lst_1`: lista que representa el primer número. \n",
        "- `lst_2`: lista que representa el segundo número. \n",
        "\n",
        "**Nota:** para leer un número ingresado por el usuario y convertirlo en lista puede utilizar las siguientes instrucciones:\n",
        "\n",
        "```python\n",
        "num = input('Número: ')\n",
        "lst = [int(x) for x in num]\n",
        "```"
      ]
    },
    {
      "cell_type": "code",
      "source": [
        "num_1 = input('Ingrese el primer número: ')\n",
        "lst_1 = [int(x) for x in num_1]\n",
        "\n",
        "num_2 = input('Ingrese el segundo número: ')\n",
        "lst_2 = [int(x) for x in num_2]\n",
        "\n",
        "if len(lst_1) != len(lst_2):\n",
        "    print('Los números no tienen la misma cantidad de dígitos.')\n",
        "    exit()\n",
        "\n",
        "posiciones = []\n",
        "\n",
        "for i in range(len(lst_1)):\n",
        "    if lst_1[i] == lst_2[i]:\n",
        "        posiciones.append(i)\n",
        "\n",
        "if len(posiciones) == 0:\n",
        "    print('No hay dígitos coincidentes en los números.')\n",
        "else:\n",
        "    print('Los números tienen', len(posiciones), 'dígito(s) en común en la(s) posición(es):', posiciones)\n"
      ],
      "metadata": {
        "colab": {
          "base_uri": "https://localhost:8080/"
        },
        "id": "gnAHLJpLZJX7",
        "outputId": "67d7b173-c631-4b18-d413-5b15107b43a7"
      },
      "id": "gnAHLJpLZJX7",
      "execution_count": 9,
      "outputs": [
        {
          "output_type": "stream",
          "name": "stdout",
          "text": [
            "Ingrese el primer número: 18224662\n",
            "Ingrese el segundo número: 12322806\n",
            "Los números tienen 2 dígito(s) en común en la(s) posición(es): [0, 3]\n"
          ]
        }
      ]
    }
  ],
  "metadata": {
    "kernelspec": {
      "display_name": "Python 3 (ipykernel)",
      "language": "python",
      "name": "python3"
    },
    "language_info": {
      "codemirror_mode": {
        "name": "ipython",
        "version": 3
      },
      "file_extension": ".py",
      "mimetype": "text/x-python",
      "name": "python",
      "nbconvert_exporter": "python",
      "pygments_lexer": "ipython3",
      "version": "3.10.6"
    },
    "colab": {
      "provenance": []
    }
  },
  "nbformat": 4,
  "nbformat_minor": 5
}